{
  "nbformat": 4,
  "nbformat_minor": 0,
  "metadata": {
    "colab": {
      "provenance": [],
      "authorship_tag": "ABX9TyMjgPMwbXpyw+KIeQDElXet",
      "include_colab_link": true
    },
    "kernelspec": {
      "name": "python3",
      "display_name": "Python 3"
    },
    "language_info": {
      "name": "python"
    }
  },
  "cells": [
    {
      "cell_type": "markdown",
      "metadata": {
        "id": "view-in-github",
        "colab_type": "text"
      },
      "source": [
        "<a href=\"https://colab.research.google.com/github/RuwaAbey/Algorithms-and-Data-Structures/blob/main/Alogorithms_py.ipynb\" target=\"_parent\"><img src=\"https://colab.research.google.com/assets/colab-badge.svg\" alt=\"Open In Colab\"/></a>"
      ]
    },
    {
      "cell_type": "markdown",
      "source": [
        "**Linear Search Alogrithm**"
      ],
      "metadata": {
        "id": "fRUB5C1s6svk"
      }
    },
    {
      "cell_type": "code",
      "source": [
        "def linear_search(list,target):\n",
        "  \"\"\"\n",
        "  Returns the index position of the target if found, else returns None\n",
        "  \"\"\"\n",
        "  for i in range(0, len(list)):\n",
        "    if list[i] == target:\n",
        "      return i\n",
        "  return None\n",
        "\n",
        "def verify(index):\n",
        "  if index is not None:\n",
        "    print(\"Target found at index: \", index)\n",
        "\n",
        "  else:\n",
        "    print(\"Target not found in list\")\n",
        "\n",
        "numbers = [1,2,3,4,5,6,7,8,9,10]\n",
        "\n",
        "result = linear_search(numbers, 12)\n",
        "verify(result)\n",
        "\n",
        "result = linear_search(numbers, 6)\n",
        "verify(result)"
      ],
      "metadata": {
        "colab": {
          "base_uri": "https://localhost:8080/"
        },
        "id": "oWvfaZG-7C6U",
        "outputId": "c6da1989-8cd0-44e3-f8ef-7d4d6c1885c7"
      },
      "execution_count": null,
      "outputs": [
        {
          "output_type": "stream",
          "name": "stdout",
          "text": [
            "Target not found in list\n",
            "Target found at index:  5\n"
          ]
        }
      ]
    },
    {
      "cell_type": "markdown",
      "source": [
        "**Binary Search Algorithm**"
      ],
      "metadata": {
        "id": "CPxv9Srj8UGH"
      }
    },
    {
      "cell_type": "code",
      "source": [
        "def binary_search(list,target):\n",
        "  first = 0\n",
        "  last = len(list) - 1\n",
        "\n",
        "  while first <= last:\n",
        "    midpoint = (first + last)//2\n",
        "\n",
        "    if list[midpoint] == target:\n",
        "      return midpoint\n",
        "    elif list[midpoint] < target:\n",
        "      first = midpoint + 1\n",
        "    else:\n",
        "      last = midpoint - 1\n",
        "\n",
        "  return None\n",
        "\n",
        "def verify(index):\n",
        "  if index is not None:\n",
        "    print(\"Target found at index: \", index)\n",
        "\n",
        "  else:\n",
        "    print(\"Target not found in list\")\n",
        "\n",
        "numbers = [1,2,3,4,5,6,7,8,9,10]\n",
        "\n",
        "result = binary_search(numbers, 12)\n",
        "verify(result)\n",
        "\n",
        "result = binary_search(numbers, 6)\n",
        "verify(result)\n",
        "\n",
        "\n",
        "\n"
      ],
      "metadata": {
        "colab": {
          "base_uri": "https://localhost:8080/"
        },
        "id": "KNtzRPB974rQ",
        "outputId": "2d49b5f4-d69d-4a08-f938-cde052f3b2ea"
      },
      "execution_count": null,
      "outputs": [
        {
          "output_type": "stream",
          "name": "stdout",
          "text": [
            "Target not found in list\n",
            "Target found at index:  5\n"
          ]
        }
      ]
    },
    {
      "cell_type": "markdown",
      "source": [
        "**Recursive Binary**"
      ],
      "metadata": {
        "id": "-fO2qLydafnM"
      }
    },
    {
      "cell_type": "code",
      "source": [
        "def recursive_binary_search(list,target):\n",
        "  if len(list) == 0: #using the end of the list as a stopping condtion\n",
        "    return False\n",
        "  else:\n",
        "    midpoint = (len(list))//2\n",
        "\n",
        "    if list[midpoint] == target:\n",
        "      return True\n",
        "    else:\n",
        "      if list[midpoint] < target:\n",
        "        return recursive_binary_search(list[midpoint+1:], target)\n",
        "      else:\n",
        "        return recursive_binary_search(list[:midpoint],target)\n",
        "\n",
        "def verify(reuslt):\n",
        "  print(\"Target found: \", result)\n",
        "\n",
        "numbers = [1,2,3,4,5,6,7,8,9,10]\n",
        "\n",
        "result = recursive_binary_search(numbers, 12)\n",
        "verify(result)\n",
        "\n",
        "result = recursive_binary_search(numbers, 6)\n",
        "verify(result)\n",
        "\n",
        "\n",
        "\n"
      ],
      "metadata": {
        "id": "4V7y_iivakjT",
        "colab": {
          "base_uri": "https://localhost:8080/"
        },
        "outputId": "2af13c9a-d5e1-4c9f-8e9c-f08d8791d73e"
      },
      "execution_count": 2,
      "outputs": [
        {
          "output_type": "stream",
          "name": "stdout",
          "text": [
            "Target found:  False\n",
            "Target found:  True\n"
          ]
        }
      ]
    }
  ]
}