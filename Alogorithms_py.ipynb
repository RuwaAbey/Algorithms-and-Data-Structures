{
  "nbformat": 4,
  "nbformat_minor": 0,
  "metadata": {
    "colab": {
      "provenance": [],
      "authorship_tag": "ABX9TyP8bKZ7BWRqCVqi1inePrBN",
      "include_colab_link": true
    },
    "kernelspec": {
      "name": "python3",
      "display_name": "Python 3"
    },
    "language_info": {
      "name": "python"
    }
  },
  "cells": [
    {
      "cell_type": "markdown",
      "metadata": {
        "id": "view-in-github",
        "colab_type": "text"
      },
      "source": [
        "<a href=\"https://colab.research.google.com/github/RuwaAbey/Algorithms-and-Data-Structures/blob/main/Alogorithms_py.ipynb\" target=\"_parent\"><img src=\"https://colab.research.google.com/assets/colab-badge.svg\" alt=\"Open In Colab\"/></a>"
      ]
    },
    {
      "cell_type": "markdown",
      "source": [
        "**Linear Search Alogrithm**"
      ],
      "metadata": {
        "id": "fRUB5C1s6svk"
      }
    },
    {
      "cell_type": "code",
      "source": [
        "def linear_search(list,target):\n",
        "  \"\"\"\n",
        "  Returns the index position of the target if found, else returns None\n",
        "  \"\"\"\n",
        "  for i in range(0, len(list)):\n",
        "    if list[i] == target:\n",
        "      return i\n",
        "  return None\n",
        "\n",
        "def verify(index):\n",
        "  if index is not None:\n",
        "    print(\"Target found at index: \", index)\n",
        "\n",
        "  else:\n",
        "    print(\"Target not found in list\")\n",
        "\n",
        "numbers = [1,2,3,4,5,6,7,8,9,10]\n",
        "\n",
        "result = linear_search(numbers, 12)\n",
        "verify(result)"
      ],
      "metadata": {
        "colab": {
          "base_uri": "https://localhost:8080/"
        },
        "id": "oWvfaZG-7C6U",
        "outputId": "43f9c408-bd0f-414e-ab8b-e4671c72d700"
      },
      "execution_count": 1,
      "outputs": [
        {
          "output_type": "stream",
          "name": "stdout",
          "text": [
            "Target not found in list\n"
          ]
        }
      ]
    },
    {
      "cell_type": "markdown",
      "source": [
        "**Binary Search Algorithm**"
      ],
      "metadata": {
        "id": "CPxv9Srj8UGH"
      }
    },
    {
      "cell_type": "code",
      "source": [
        "def binary_search(list,target):\n",
        "  first = 0\n",
        "  last = len(list) - 1\n",
        "\n",
        "\n",
        "\n"
      ],
      "metadata": {
        "id": "KNtzRPB974rQ"
      },
      "execution_count": null,
      "outputs": []
    }
  ]
}